{
  "nbformat": 4,
  "nbformat_minor": 0,
  "metadata": {
    "kernelspec": {
      "display_name": "Python 3",
      "language": "python",
      "name": "python3"
    },
    "language_info": {
      "codemirror_mode": {
        "name": "ipython",
        "version": 3
      },
      "file_extension": ".py",
      "mimetype": "text/x-python",
      "name": "python",
      "nbconvert_exporter": "python",
      "pygments_lexer": "ipython3",
      "version": "3.6.4"
    },
    "colab": {
      "name": "Audiobooks_Case_1_Preprocessing.ipynb",
      "provenance": [],
      "collapsed_sections": [],
      "include_colab_link": true
    }
  },
  "cells": [
    {
      "cell_type": "markdown",
      "metadata": {
        "id": "view-in-github",
        "colab_type": "text"
      },
      "source": [
        "<a href=\"https://colab.research.google.com/github/vjacobsen/neural-network-audiobook/blob/main/Audiobooks_Case_1_Preprocessing.ipynb\" target=\"_parent\"><img src=\"https://colab.research.google.com/assets/colab-badge.svg\" alt=\"Open In Colab\"/></a>"
      ]
    },
    {
      "cell_type": "markdown",
      "metadata": {
        "id": "YDzyLSgAyboA"
      },
      "source": [
        "# Audiobooks business case"
      ]
    },
    {
      "cell_type": "markdown",
      "metadata": {
        "id": "3h6cLkIfyboD"
      },
      "source": [
        "## Preprocessing exercise\n",
        "\n",
        "It makes sense to shuffle the indices prior to balancing the dataset. \n",
        "\n",
        "Using the code from the lesson (below), shuffle the indices and then balance the dataset.\n",
        "\n",
        "At the end of the course, you will have an exercise to create the same machine learning algorithm, with preprocessing done in this way.\n",
        "\n",
        "Note: This is more of a programming exercise rather than a machine learning one. Being able to complete it successfully will ensure you understand the preprocessing. \n",
        "\n",
        "Good luck!\n",
        "\n",
        "**Solution:**\n",
        "\n",
        "Scroll down to the 'Exercise Solution' section"
      ]
    },
    {
      "cell_type": "markdown",
      "metadata": {
        "id": "48bW4NLXyboE"
      },
      "source": [
        "### Extract the data from the csv"
      ]
    },
    {
      "cell_type": "code",
      "metadata": {
        "id": "QE2V-EJC15mF"
      },
      "source": [
        "import numpy as np\n",
        "import tensorflow as tf\n",
        "import pandas as pd\n",
        "import csv\n",
        "import urllib.request, shutil\n",
        "from sklearn import preprocessing"
      ],
      "execution_count": 86,
      "outputs": []
    },
    {
      "cell_type": "code",
      "metadata": {
        "id": "5thsTekAyboF"
      },
      "source": [
        "url  = 'https://raw.githubusercontent.com/vjacobsen/neural-network-audiobook/main/Audiobooks_data.csv'\n",
        "file_name = 'audiobooks.csv'\n",
        "\n",
        "with urllib.request.urlopen(url) as response, open(file_name,'wb') as out_file:\n",
        "    shutil.copyfileobj(response, out_file)\n",
        "\n",
        "raw_csv_data = np.loadtxt('audiobooks.csv', delimiter=',')\n",
        "\n",
        "unscaled_inputs_all = raw_csv_data[:,1:-1]\n",
        "targets_all = raw_csv_data[:,-1]"
      ],
      "execution_count": 87,
      "outputs": []
    },
    {
      "cell_type": "code",
      "metadata": {
        "id": "E-Vct8luyboG"
      },
      "source": [
        "# When the data was collected it was actually arranged by date\n",
        "# Shuffle the indices of the data, so the data is not arranged in any way when we feed it.\n",
        "# Since we will be batching, we want the data to be as randomly spread out as possible\n",
        "shuffled_indices = np.arange(unscaled_inputs_all.shape[0])\n",
        "np.random.shuffle(shuffled_indices)\n",
        "\n",
        "# Use the shuffled indices to shuffle the inputs and targets.\n",
        "unscaled_inputs_all = unscaled_inputs_all[shuffled_indices]\n",
        "targets_all = targets_all[shuffled_indices]"
      ],
      "execution_count": 88,
      "outputs": []
    },
    {
      "cell_type": "markdown",
      "metadata": {
        "id": "oQg2L2ppyboH"
      },
      "source": [
        "### Balance the dataset"
      ]
    },
    {
      "cell_type": "code",
      "metadata": {
        "id": "h5C9u-eM1ahJ",
        "colab": {
          "base_uri": "https://localhost:8080/"
        },
        "outputId": "74d451f8-8c5d-458c-d070-4505ca9e10f0"
      },
      "source": [
        "pip install -U imbalanced-learn"
      ],
      "execution_count": 89,
      "outputs": [
        {
          "output_type": "stream",
          "text": [
            "Requirement already up-to-date: imbalanced-learn in /usr/local/lib/python3.7/dist-packages (0.8.0)\n",
            "Requirement already satisfied, skipping upgrade: numpy>=1.13.3 in /usr/local/lib/python3.7/dist-packages (from imbalanced-learn) (1.19.5)\n",
            "Requirement already satisfied, skipping upgrade: scikit-learn>=0.24 in /usr/local/lib/python3.7/dist-packages (from imbalanced-learn) (0.24.2)\n",
            "Requirement already satisfied, skipping upgrade: scipy>=0.19.1 in /usr/local/lib/python3.7/dist-packages (from imbalanced-learn) (1.4.1)\n",
            "Requirement already satisfied, skipping upgrade: joblib>=0.11 in /usr/local/lib/python3.7/dist-packages (from imbalanced-learn) (1.0.1)\n",
            "Requirement already satisfied, skipping upgrade: threadpoolctl>=2.0.0 in /usr/local/lib/python3.7/dist-packages (from scikit-learn>=0.24->imbalanced-learn) (2.1.0)\n"
          ],
          "name": "stdout"
        }
      ]
    },
    {
      "cell_type": "code",
      "metadata": {
        "id": "rWcuSv4H2Veo"
      },
      "source": [
        "from imblearn.over_sampling import SMOTE\n",
        "from imblearn.under_sampling import RandomUnderSampler, TomekLinks, CondensedNearestNeighbour\n",
        "from imblearn.combine import SMOTETomek\n",
        "\n",
        "#balancer_model = SMOTE()\n",
        "#balancer_model = RandomUnderSampler()\n",
        "#balancer_model = TomekLinks()\n",
        "balancer_model = SMOTETomek()\n",
        "\n",
        "unscaled_inputs_equal_priors, targets_equal_priors =  balancer_model.fit_resample(X=unscaled_inputs_all, y=targets_all)"
      ],
      "execution_count": 90,
      "outputs": []
    },
    {
      "cell_type": "code",
      "metadata": {
        "colab": {
          "base_uri": "https://localhost:8080/"
        },
        "id": "yfw9uM5992d1",
        "outputId": "2e46d557-9ce1-4f91-ff9e-32dd2d4099a8"
      },
      "source": [
        "len(targets_equal_priors)"
      ],
      "execution_count": 91,
      "outputs": [
        {
          "output_type": "execute_result",
          "data": {
            "text/plain": [
              "23176"
            ]
          },
          "metadata": {
            "tags": []
          },
          "execution_count": 91
        }
      ]
    },
    {
      "cell_type": "code",
      "metadata": {
        "colab": {
          "base_uri": "https://localhost:8080/"
        },
        "id": "9EGg0KB82Yuw",
        "outputId": "a169f655-d151-4b90-ca66-75f60e776746"
      },
      "source": [
        "# Verify it worked\n",
        "sum(targets_equal_priors) / len(targets_equal_priors)"
      ],
      "execution_count": 92,
      "outputs": [
        {
          "output_type": "execute_result",
          "data": {
            "text/plain": [
              "0.5"
            ]
          },
          "metadata": {
            "tags": []
          },
          "execution_count": 92
        }
      ]
    },
    {
      "cell_type": "markdown",
      "metadata": {
        "id": "ck1iyP2EyboI"
      },
      "source": [
        "### Standardize the inputs"
      ]
    },
    {
      "cell_type": "code",
      "metadata": {
        "id": "XTIpzVqsyboI"
      },
      "source": [
        "scaled_inputs = preprocessing.scale(unscaled_inputs_equal_priors)"
      ],
      "execution_count": 93,
      "outputs": []
    },
    {
      "cell_type": "markdown",
      "metadata": {
        "id": "-YPHBQSkyboI"
      },
      "source": [
        "### Shuffle the data"
      ]
    },
    {
      "cell_type": "code",
      "metadata": {
        "id": "i0VVyjcHyboI"
      },
      "source": [
        "shuffled_indices = np.arange(scaled_inputs.shape[0])\n",
        "np.random.shuffle(shuffled_indices)\n",
        "\n",
        "shuffled_inputs = scaled_inputs[shuffled_indices]\n",
        "shuffled_targets = targets_equal_priors[shuffled_indices]"
      ],
      "execution_count": 94,
      "outputs": []
    },
    {
      "cell_type": "markdown",
      "metadata": {
        "id": "TyYAWIEOyboJ"
      },
      "source": [
        "### Split the dataset into train, validation, and test"
      ]
    },
    {
      "cell_type": "code",
      "metadata": {
        "colab": {
          "base_uri": "https://localhost:8080/"
        },
        "id": "na4-W1BiyboJ",
        "outputId": "047d2fb5-dab6-452e-d39b-a7f17759409a"
      },
      "source": [
        "# Count the total number of samples\n",
        "samples_count = shuffled_inputs.shape[0]\n",
        "\n",
        "# Count the samples in each subset, assuming we want 80-10-10 distribution of training, validation, and test.\n",
        "# Naturally, the numbers are integers.\n",
        "train_samples_count = int(0.8 * samples_count)\n",
        "validation_samples_count = int(0.1 * samples_count)\n",
        "\n",
        "# The 'test' dataset contains all remaining data.\n",
        "test_samples_count = samples_count - train_samples_count - validation_samples_count\n",
        "\n",
        "# Create variables that record the inputs and targets for training\n",
        "# In our shuffled dataset, they are the first \"train_samples_count\" observations\n",
        "train_inputs = shuffled_inputs[:train_samples_count]\n",
        "train_targets = shuffled_targets[:train_samples_count]\n",
        "\n",
        "# Create variables that record the inputs and targets for validation.\n",
        "# They are the next \"validation_samples_count\" observations, folllowing the \"train_samples_count\" we already assigned\n",
        "validation_inputs = shuffled_inputs[train_samples_count:train_samples_count+validation_samples_count]\n",
        "validation_targets = shuffled_targets[train_samples_count:train_samples_count+validation_samples_count]\n",
        "\n",
        "# Create variables that record the inputs and targets for test.\n",
        "# They are everything that is remaining.\n",
        "test_inputs = shuffled_inputs[train_samples_count+validation_samples_count:]\n",
        "test_targets = shuffled_targets[train_samples_count+validation_samples_count:]\n",
        "\n",
        "# We balanced our dataset to be 50-50 (for targets 0 and 1), but the training, validation, and test were \n",
        "# taken from a shuffled dataset. Check if they are balanced, too. Note that each time you rerun this code, \n",
        "# you will get different values, as each time they are shuffled randomly.\n",
        "# Normally you preprocess ONCE, so you need not rerun this code once it is done.\n",
        "# If you rerun this whole sheet, the npzs will be overwritten with your newly preprocessed data.\n",
        "\n",
        "# Print the number of targets that are 1s, the total number of samples, and the proportion for training, validation, and test.\n",
        "print(np.sum(train_targets), train_samples_count, np.sum(train_targets) / train_samples_count)\n",
        "print(np.sum(validation_targets), validation_samples_count, np.sum(validation_targets) / validation_samples_count)\n",
        "print(np.sum(test_targets), test_samples_count, np.sum(test_targets) / test_samples_count)"
      ],
      "execution_count": 95,
      "outputs": [
        {
          "output_type": "stream",
          "text": [
            "9240.0 18540 0.49838187702265374\n",
            "1176.0 2317 0.5075528700906344\n",
            "1172.0 2319 0.5053902544200086\n"
          ],
          "name": "stdout"
        }
      ]
    },
    {
      "cell_type": "markdown",
      "metadata": {
        "id": "fUKw5AbTyboK"
      },
      "source": [
        "### Save the three datasets in *.npz"
      ]
    },
    {
      "cell_type": "code",
      "metadata": {
        "colab": {
          "base_uri": "https://localhost:8080/"
        },
        "id": "ntbvSiSR4YzE",
        "outputId": "fc15c6cf-f47d-4148-c76d-4f56e13fe1bb"
      },
      "source": [
        "from google.colab import drive\n",
        "drive.mount('/content/drive')"
      ],
      "execution_count": 96,
      "outputs": [
        {
          "output_type": "stream",
          "text": [
            "Drive already mounted at /content/drive; to attempt to forcibly remount, call drive.mount(\"/content/drive\", force_remount=True).\n"
          ],
          "name": "stdout"
        }
      ]
    },
    {
      "cell_type": "code",
      "metadata": {
        "id": "c49p0XDtyboL"
      },
      "source": [
        "# Save the three datasets in *.npz.\n",
        "# In the next lesson, you will see that it is extremely valuable to name them in such a coherent way!\n",
        "\n",
        "folder_path = '/content/drive/MyDrive/Python and Data Science/projects/neural-network-audiobook/'\n",
        "\n",
        "np.savez(folder_path+'Audiobooks_data_train', inputs=train_inputs, targets=train_targets)\n",
        "np.savez(folder_path+'Audiobooks_data_validation', inputs=validation_inputs, targets=validation_targets)\n",
        "np.savez(folder_path+'Audiobooks_data_test', inputs=test_inputs, targets=test_targets)"
      ],
      "execution_count": 97,
      "outputs": []
    },
    {
      "cell_type": "code",
      "metadata": {
        "id": "4rPMBDmm47X3"
      },
      "source": [
        ""
      ],
      "execution_count": 97,
      "outputs": []
    }
  ]
}