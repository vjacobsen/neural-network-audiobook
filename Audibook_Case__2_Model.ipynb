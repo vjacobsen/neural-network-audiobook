{
  "nbformat": 4,
  "nbformat_minor": 0,
  "metadata": {
    "colab": {
      "name": "Audibook_Case_ 2_Model.ipynb",
      "provenance": [],
      "collapsed_sections": [],
      "authorship_tag": "ABX9TyNilIF9RxAUJEJl3BvIVHG/",
      "include_colab_link": true
    },
    "kernelspec": {
      "name": "python3",
      "display_name": "Python 3"
    },
    "language_info": {
      "name": "python"
    }
  },
  "cells": [
    {
      "cell_type": "markdown",
      "metadata": {
        "id": "view-in-github",
        "colab_type": "text"
      },
      "source": [
        "<a href=\"https://colab.research.google.com/github/vjacobsen/neural-network-audiobook/blob/main/Audibook_Case__2_Model.ipynb\" target=\"_parent\"><img src=\"https://colab.research.google.com/assets/colab-badge.svg\" alt=\"Open In Colab\"/></a>"
      ]
    },
    {
      "cell_type": "code",
      "metadata": {
        "id": "E_kiOvFQs5zU"
      },
      "source": [
        "import numpy as np\n",
        "import tensorflow as tf\n",
        "import pandas as pd"
      ],
      "execution_count": 21,
      "outputs": []
    },
    {
      "cell_type": "code",
      "metadata": {
        "colab": {
          "base_uri": "https://localhost:8080/"
        },
        "id": "D3iMUWL_5pAh",
        "outputId": "85dbcbaf-70c0-44c8-e6e5-fa7e4610004d"
      },
      "source": [
        "from google.colab import drive\n",
        "drive.mount('/content/drive')"
      ],
      "execution_count": 22,
      "outputs": [
        {
          "output_type": "stream",
          "text": [
            "Drive already mounted at /content/drive; to attempt to forcibly remount, call drive.mount(\"/content/drive\", force_remount=True).\n"
          ],
          "name": "stdout"
        }
      ]
    },
    {
      "cell_type": "markdown",
      "metadata": {
        "id": "WA6zvGFE7KAV"
      },
      "source": [
        "# Load Preprocessed Data"
      ]
    },
    {
      "cell_type": "code",
      "metadata": {
        "id": "gf_teBe05wrN"
      },
      "source": [
        "def load_npz(path):\n",
        "  npz = np.load(path)\n",
        "  inputs = npz['inputs'].astype(np.float)\n",
        "  targets = npz['targets'].astype(np.int)\n",
        "\n",
        "  return inputs, targets\n",
        "\n",
        "\n",
        "folder_path = '/content/drive/MyDrive/Python and Data Science/projects/neural-network-audiobook/'\n",
        "\n",
        "train_inputs, train_targets = load_npz(folder_path + 'Audiobooks_data_train.npz')\n",
        "validation_inputs, validation_targets = load_npz(folder_path + 'Audiobooks_data_validation.npz')\n",
        "test_inputs, test_targets = load_npz(folder_path + 'Audiobooks_data_test.npz')"
      ],
      "execution_count": 23,
      "outputs": []
    },
    {
      "cell_type": "markdown",
      "metadata": {
        "id": "TsfuiiyB7L64"
      },
      "source": [
        "# Model"
      ]
    },
    {
      "cell_type": "code",
      "metadata": {
        "colab": {
          "base_uri": "https://localhost:8080/"
        },
        "id": "UWrBtgGT542e",
        "outputId": "ac25b7c9-ddd9-4655-ce4a-fb7c7ad7b26b"
      },
      "source": [
        "# Outline model\n",
        "input_size  = 10\n",
        "output_size =  2\n",
        "hidden_layer_size = 50\n",
        "\n",
        "\n",
        "model = tf.keras.Sequential([\n",
        "                             tf.keras.layers.Dense(hidden_layer_size, activation='relu'),\n",
        "                             tf.keras.layers.Dense(hidden_layer_size, activation='relu'),\n",
        "                             tf.keras.layers.Dense(output_size, activation='softmax')\n",
        "                             ])\n",
        "\n",
        "early_stopping = tf.keras.callbacks.EarlyStopping(patience=2)\n",
        "\n",
        "# Choose optimizer and loss function\n",
        "model.compile(optimizer='adam', loss='sparse_categorical_crossentropy', metrics=['accuracy'])\n",
        "\n",
        "NUM_EPOCHS = 100\n",
        "BATCH_SIZE = 100\n",
        "\n",
        "model.fit(x=train_inputs, \n",
        "          y= train_targets,\n",
        "          epochs=NUM_EPOCHS, \n",
        "          batch_size=BATCH_SIZE,\n",
        "          callbacks=[early_stopping],\n",
        "          validation_data=(validation_inputs, validation_targets),\n",
        "          verbose=2\n",
        "          )"
      ],
      "execution_count": 25,
      "outputs": [
        {
          "output_type": "stream",
          "text": [
            "Epoch 1/100\n",
            "111/111 - 1s - loss: 0.3941 - accuracy: 0.8451 - val_loss: 0.2927 - val_accuracy: 0.8939\n",
            "Epoch 2/100\n",
            "111/111 - 0s - loss: 0.2772 - accuracy: 0.8987 - val_loss: 0.2600 - val_accuracy: 0.9076\n",
            "Epoch 3/100\n",
            "111/111 - 0s - loss: 0.2570 - accuracy: 0.9033 - val_loss: 0.2530 - val_accuracy: 0.9069\n",
            "Epoch 4/100\n",
            "111/111 - 0s - loss: 0.2469 - accuracy: 0.9054 - val_loss: 0.2357 - val_accuracy: 0.9076\n",
            "Epoch 5/100\n",
            "111/111 - 0s - loss: 0.2413 - accuracy: 0.9066 - val_loss: 0.2358 - val_accuracy: 0.9098\n",
            "Epoch 6/100\n",
            "111/111 - 0s - loss: 0.2370 - accuracy: 0.9093 - val_loss: 0.2296 - val_accuracy: 0.9113\n",
            "Epoch 7/100\n",
            "111/111 - 0s - loss: 0.2348 - accuracy: 0.9097 - val_loss: 0.2246 - val_accuracy: 0.9069\n",
            "Epoch 8/100\n",
            "111/111 - 0s - loss: 0.2319 - accuracy: 0.9089 - val_loss: 0.2262 - val_accuracy: 0.9069\n",
            "Epoch 9/100\n",
            "111/111 - 0s - loss: 0.2295 - accuracy: 0.9103 - val_loss: 0.2211 - val_accuracy: 0.9084\n",
            "Epoch 10/100\n",
            "111/111 - 0s - loss: 0.2272 - accuracy: 0.9109 - val_loss: 0.2241 - val_accuracy: 0.9048\n",
            "Epoch 11/100\n",
            "111/111 - 0s - loss: 0.2264 - accuracy: 0.9115 - val_loss: 0.2202 - val_accuracy: 0.9076\n",
            "Epoch 12/100\n",
            "111/111 - 0s - loss: 0.2255 - accuracy: 0.9125 - val_loss: 0.2207 - val_accuracy: 0.9105\n",
            "Epoch 13/100\n",
            "111/111 - 0s - loss: 0.2249 - accuracy: 0.9135 - val_loss: 0.2317 - val_accuracy: 0.9091\n"
          ],
          "name": "stdout"
        },
        {
          "output_type": "execute_result",
          "data": {
            "text/plain": [
              "<tensorflow.python.keras.callbacks.History at 0x7fad917017d0>"
            ]
          },
          "metadata": {
            "tags": []
          },
          "execution_count": 25
        }
      ]
    },
    {
      "cell_type": "code",
      "metadata": {
        "id": "8gCBldez-6Bz"
      },
      "source": [
        ""
      ],
      "execution_count": 24,
      "outputs": []
    }
  ]
}